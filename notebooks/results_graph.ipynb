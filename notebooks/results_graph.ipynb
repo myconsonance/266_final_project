{
  "nbformat": 4,
  "nbformat_minor": 0,
  "metadata": {
    "colab": {
      "name": "results_graph.ipynb",
      "provenance": [],
      "authorship_tag": "ABX9TyOQod4HBzP3uX1+Qns1LlLP",
      "include_colab_link": true
    },
    "kernelspec": {
      "name": "python3",
      "display_name": "Python 3"
    },
    "language_info": {
      "name": "python"
    }
  },
  "cells": [
    {
      "cell_type": "markdown",
      "metadata": {
        "id": "view-in-github",
        "colab_type": "text"
      },
      "source": [
        "<a href=\"https://colab.research.google.com/github/myconsonance/266_final_project/blob/main/notebooks/results_graph.ipynb\" target=\"_parent\"><img src=\"https://colab.research.google.com/assets/colab-badge.svg\" alt=\"Open In Colab\"/></a>"
      ]
    },
    {
      "cell_type": "code",
      "metadata": {
        "id": "5c25omEZw0Is"
      },
      "source": [
        "import altair as alt\n",
        "import pandas as pd\n",
        "import numpy as np"
      ],
      "execution_count": 2,
      "outputs": []
    },
    {
      "cell_type": "code",
      "metadata": {
        "id": "FGzP-dA1w27X"
      },
      "source": [
        "sentiment_loss = 0.233, 0.233, 0.3599, 2.7632, 2.5658, 0.2830, 4.1447, 3.5526, 0.3311\n",
        "sentiment_accuracy = 0.8835, 0.8835, 0.8835, 0.9086,0.9257,0.9257,0.8971,0.9029,0.8914\n"
      ],
      "execution_count": 7,
      "outputs": []
    },
    {
      "cell_type": "code",
      "metadata": {
        "id": "BX-ullXxx3YB"
      },
      "source": [
        "ngram_loss = 0.1010,1.0000,0.0893,2.3684,2.1710,0.2800,0.9868,1.1842,0.3412\n",
        "ngram_accuracy = 0.9375,1.0000,0.9500,0.9314,0.9371,0.8800,0.9695,0.9486,0.8514\n"
      ],
      "execution_count": 15,
      "outputs": []
    },
    {
      "cell_type": "code",
      "metadata": {
        "id": "19f3I9qXx9oT"
      },
      "source": [
        "models = ['model1', 'model2','model3','model4','model5','model6','model7','model8','model9']"
      ],
      "execution_count": 61,
      "outputs": []
    },
    {
      "cell_type": "code",
      "metadata": {
        "id": "n38Os48R2tcR"
      },
      "source": [
        "sentiment = {'Accuracy': [0.8835, 0.8835, 0.8835, 0.9086,0.9257,0.9257,0.8971,0.9029,0.8914]}"
      ],
      "execution_count": 74,
      "outputs": []
    },
    {
      "cell_type": "code",
      "metadata": {
        "id": "6tbNZRwTyYvt"
      },
      "source": [
        "sentiment = pd.DataFrame(data = sentiment)"
      ],
      "execution_count": 75,
      "outputs": []
    },
    {
      "cell_type": "code",
      "metadata": {
        "id": "Ydh7BGWSzw1u"
      },
      "source": [
        "sentiment = sentiment.rename(index={0: \"accuracy\"})"
      ],
      "execution_count": 71,
      "outputs": []
    },
    {
      "cell_type": "code",
      "metadata": {
        "colab": {
          "base_uri": "https://localhost:8080/",
          "height": 328
        },
        "id": "bWn4Ttpy0C2o",
        "outputId": "6e4b7c13-da8c-4a23-f039-5ef75f22118e"
      },
      "source": [
        "sentiment['Model'] = list(range(1,10))\n",
        "sentiment"
      ],
      "execution_count": 79,
      "outputs": [
        {
          "output_type": "execute_result",
          "data": {
            "text/html": [
              "<div>\n",
              "<style scoped>\n",
              "    .dataframe tbody tr th:only-of-type {\n",
              "        vertical-align: middle;\n",
              "    }\n",
              "\n",
              "    .dataframe tbody tr th {\n",
              "        vertical-align: top;\n",
              "    }\n",
              "\n",
              "    .dataframe thead th {\n",
              "        text-align: right;\n",
              "    }\n",
              "</style>\n",
              "<table border=\"1\" class=\"dataframe\">\n",
              "  <thead>\n",
              "    <tr style=\"text-align: right;\">\n",
              "      <th></th>\n",
              "      <th>Accuracy</th>\n",
              "      <th>Model</th>\n",
              "    </tr>\n",
              "  </thead>\n",
              "  <tbody>\n",
              "    <tr>\n",
              "      <th>0</th>\n",
              "      <td>0.8835</td>\n",
              "      <td>1</td>\n",
              "    </tr>\n",
              "    <tr>\n",
              "      <th>1</th>\n",
              "      <td>0.8835</td>\n",
              "      <td>2</td>\n",
              "    </tr>\n",
              "    <tr>\n",
              "      <th>2</th>\n",
              "      <td>0.8835</td>\n",
              "      <td>3</td>\n",
              "    </tr>\n",
              "    <tr>\n",
              "      <th>3</th>\n",
              "      <td>0.9086</td>\n",
              "      <td>4</td>\n",
              "    </tr>\n",
              "    <tr>\n",
              "      <th>4</th>\n",
              "      <td>0.9257</td>\n",
              "      <td>5</td>\n",
              "    </tr>\n",
              "    <tr>\n",
              "      <th>5</th>\n",
              "      <td>0.9257</td>\n",
              "      <td>6</td>\n",
              "    </tr>\n",
              "    <tr>\n",
              "      <th>6</th>\n",
              "      <td>0.8971</td>\n",
              "      <td>7</td>\n",
              "    </tr>\n",
              "    <tr>\n",
              "      <th>7</th>\n",
              "      <td>0.9029</td>\n",
              "      <td>8</td>\n",
              "    </tr>\n",
              "    <tr>\n",
              "      <th>8</th>\n",
              "      <td>0.8914</td>\n",
              "      <td>9</td>\n",
              "    </tr>\n",
              "  </tbody>\n",
              "</table>\n",
              "</div>"
            ],
            "text/plain": [
              "   Accuracy  Model\n",
              "0    0.8835      1\n",
              "1    0.8835      2\n",
              "2    0.8835      3\n",
              "3    0.9086      4\n",
              "4    0.9257      5\n",
              "5    0.9257      6\n",
              "6    0.8971      7\n",
              "7    0.9029      8\n",
              "8    0.8914      9"
            ]
          },
          "metadata": {
            "tags": []
          },
          "execution_count": 79
        }
      ]
    },
    {
      "cell_type": "code",
      "metadata": {
        "id": "ddGM_a1e3Xqw"
      },
      "source": [
        "ngram = {'Accuracy': [0.9375,1.0000,0.9500,0.9314,0.9371,0.8800,0.9695,0.9486,0.8514]}"
      ],
      "execution_count": 80,
      "outputs": []
    },
    {
      "cell_type": "code",
      "metadata": {
        "id": "0am6DHz40GOJ"
      },
      "source": [
        "ngram = pd.DataFrame(data = ngram)"
      ],
      "execution_count": 81,
      "outputs": []
    },
    {
      "cell_type": "code",
      "metadata": {
        "colab": {
          "base_uri": "https://localhost:8080/",
          "height": 328
        },
        "id": "QygUeMR40NeI",
        "outputId": "2df62831-e96d-460f-8da4-dafadf07d011"
      },
      "source": [
        "ngram['Model'] = list(range(1,10))\n",
        "ngram"
      ],
      "execution_count": 82,
      "outputs": [
        {
          "output_type": "execute_result",
          "data": {
            "text/html": [
              "<div>\n",
              "<style scoped>\n",
              "    .dataframe tbody tr th:only-of-type {\n",
              "        vertical-align: middle;\n",
              "    }\n",
              "\n",
              "    .dataframe tbody tr th {\n",
              "        vertical-align: top;\n",
              "    }\n",
              "\n",
              "    .dataframe thead th {\n",
              "        text-align: right;\n",
              "    }\n",
              "</style>\n",
              "<table border=\"1\" class=\"dataframe\">\n",
              "  <thead>\n",
              "    <tr style=\"text-align: right;\">\n",
              "      <th></th>\n",
              "      <th>Accuracy</th>\n",
              "      <th>Model</th>\n",
              "    </tr>\n",
              "  </thead>\n",
              "  <tbody>\n",
              "    <tr>\n",
              "      <th>0</th>\n",
              "      <td>0.9375</td>\n",
              "      <td>1</td>\n",
              "    </tr>\n",
              "    <tr>\n",
              "      <th>1</th>\n",
              "      <td>1.0000</td>\n",
              "      <td>2</td>\n",
              "    </tr>\n",
              "    <tr>\n",
              "      <th>2</th>\n",
              "      <td>0.9500</td>\n",
              "      <td>3</td>\n",
              "    </tr>\n",
              "    <tr>\n",
              "      <th>3</th>\n",
              "      <td>0.9314</td>\n",
              "      <td>4</td>\n",
              "    </tr>\n",
              "    <tr>\n",
              "      <th>4</th>\n",
              "      <td>0.9371</td>\n",
              "      <td>5</td>\n",
              "    </tr>\n",
              "    <tr>\n",
              "      <th>5</th>\n",
              "      <td>0.8800</td>\n",
              "      <td>6</td>\n",
              "    </tr>\n",
              "    <tr>\n",
              "      <th>6</th>\n",
              "      <td>0.9695</td>\n",
              "      <td>7</td>\n",
              "    </tr>\n",
              "    <tr>\n",
              "      <th>7</th>\n",
              "      <td>0.9486</td>\n",
              "      <td>8</td>\n",
              "    </tr>\n",
              "    <tr>\n",
              "      <th>8</th>\n",
              "      <td>0.8514</td>\n",
              "      <td>9</td>\n",
              "    </tr>\n",
              "  </tbody>\n",
              "</table>\n",
              "</div>"
            ],
            "text/plain": [
              "   Accuracy  Model\n",
              "0    0.9375      1\n",
              "1    1.0000      2\n",
              "2    0.9500      3\n",
              "3    0.9314      4\n",
              "4    0.9371      5\n",
              "5    0.8800      6\n",
              "6    0.9695      7\n",
              "7    0.9486      8\n",
              "8    0.8514      9"
            ]
          },
          "metadata": {
            "tags": []
          },
          "execution_count": 82
        }
      ]
    },
    {
      "cell_type": "code",
      "metadata": {
        "id": "gU_ZaXUc7xsA"
      },
      "source": [
        "ngram['Text Generator'] = ('N-Gram') "
      ],
      "execution_count": 103,
      "outputs": []
    },
    {
      "cell_type": "code",
      "metadata": {
        "colab": {
          "base_uri": "https://localhost:8080/",
          "height": 328
        },
        "id": "t1p5cbUL779_",
        "outputId": "2da58062-a005-4b71-f306-ea729b524a15"
      },
      "source": [
        "ngram"
      ],
      "execution_count": 104,
      "outputs": [
        {
          "output_type": "execute_result",
          "data": {
            "text/html": [
              "<div>\n",
              "<style scoped>\n",
              "    .dataframe tbody tr th:only-of-type {\n",
              "        vertical-align: middle;\n",
              "    }\n",
              "\n",
              "    .dataframe tbody tr th {\n",
              "        vertical-align: top;\n",
              "    }\n",
              "\n",
              "    .dataframe thead th {\n",
              "        text-align: right;\n",
              "    }\n",
              "</style>\n",
              "<table border=\"1\" class=\"dataframe\">\n",
              "  <thead>\n",
              "    <tr style=\"text-align: right;\">\n",
              "      <th></th>\n",
              "      <th>Accuracy</th>\n",
              "      <th>Model</th>\n",
              "      <th>Text Generator</th>\n",
              "    </tr>\n",
              "  </thead>\n",
              "  <tbody>\n",
              "    <tr>\n",
              "      <th>0</th>\n",
              "      <td>0.9375</td>\n",
              "      <td>1</td>\n",
              "      <td>N-Gram</td>\n",
              "    </tr>\n",
              "    <tr>\n",
              "      <th>1</th>\n",
              "      <td>1.0000</td>\n",
              "      <td>2</td>\n",
              "      <td>N-Gram</td>\n",
              "    </tr>\n",
              "    <tr>\n",
              "      <th>2</th>\n",
              "      <td>0.9500</td>\n",
              "      <td>3</td>\n",
              "      <td>N-Gram</td>\n",
              "    </tr>\n",
              "    <tr>\n",
              "      <th>3</th>\n",
              "      <td>0.9314</td>\n",
              "      <td>4</td>\n",
              "      <td>N-Gram</td>\n",
              "    </tr>\n",
              "    <tr>\n",
              "      <th>4</th>\n",
              "      <td>0.9371</td>\n",
              "      <td>5</td>\n",
              "      <td>N-Gram</td>\n",
              "    </tr>\n",
              "    <tr>\n",
              "      <th>5</th>\n",
              "      <td>0.8800</td>\n",
              "      <td>6</td>\n",
              "      <td>N-Gram</td>\n",
              "    </tr>\n",
              "    <tr>\n",
              "      <th>6</th>\n",
              "      <td>0.9695</td>\n",
              "      <td>7</td>\n",
              "      <td>N-Gram</td>\n",
              "    </tr>\n",
              "    <tr>\n",
              "      <th>7</th>\n",
              "      <td>0.9486</td>\n",
              "      <td>8</td>\n",
              "      <td>N-Gram</td>\n",
              "    </tr>\n",
              "    <tr>\n",
              "      <th>8</th>\n",
              "      <td>0.8514</td>\n",
              "      <td>9</td>\n",
              "      <td>N-Gram</td>\n",
              "    </tr>\n",
              "  </tbody>\n",
              "</table>\n",
              "</div>"
            ],
            "text/plain": [
              "   Accuracy  Model Text Generator\n",
              "0    0.9375      1         N-Gram\n",
              "1    1.0000      2         N-Gram\n",
              "2    0.9500      3         N-Gram\n",
              "3    0.9314      4         N-Gram\n",
              "4    0.9371      5         N-Gram\n",
              "5    0.8800      6         N-Gram\n",
              "6    0.9695      7         N-Gram\n",
              "7    0.9486      8         N-Gram\n",
              "8    0.8514      9         N-Gram"
            ]
          },
          "metadata": {
            "tags": []
          },
          "execution_count": 104
        }
      ]
    },
    {
      "cell_type": "code",
      "metadata": {
        "id": "bn-cD0ch8VD3"
      },
      "source": [
        "gpt = 0.5135,0.7601,0.5330,0.9371,0.9371,0.7257,0.9657,0.9657,0.8571\n",
        "\n"
      ],
      "execution_count": 105,
      "outputs": []
    },
    {
      "cell_type": "code",
      "metadata": {
        "id": "28hWpPec8jDa"
      },
      "source": [
        "gpt = {'Accuracy': [ 0.5135,0.7601,0.5330,0.9371,0.9371,0.7257,0.9657,0.9657,0.8571]}"
      ],
      "execution_count": 107,
      "outputs": []
    },
    {
      "cell_type": "code",
      "metadata": {
        "id": "S0Y9DSr38nPd"
      },
      "source": [
        "gpt_df = pd.DataFrame(data = gpt)"
      ],
      "execution_count": 110,
      "outputs": []
    },
    {
      "cell_type": "code",
      "metadata": {
        "id": "4kDtgdBa80nt"
      },
      "source": [
        "gpt_df['Text Generator'] = ('GPT-2') "
      ],
      "execution_count": 111,
      "outputs": []
    },
    {
      "cell_type": "code",
      "metadata": {
        "colab": {
          "base_uri": "https://localhost:8080/",
          "height": 328
        },
        "id": "kIewVaIH8570",
        "outputId": "171f2f7c-160a-475d-c0ee-a60cf730bd33"
      },
      "source": [
        "gpt_df"
      ],
      "execution_count": 112,
      "outputs": [
        {
          "output_type": "execute_result",
          "data": {
            "text/html": [
              "<div>\n",
              "<style scoped>\n",
              "    .dataframe tbody tr th:only-of-type {\n",
              "        vertical-align: middle;\n",
              "    }\n",
              "\n",
              "    .dataframe tbody tr th {\n",
              "        vertical-align: top;\n",
              "    }\n",
              "\n",
              "    .dataframe thead th {\n",
              "        text-align: right;\n",
              "    }\n",
              "</style>\n",
              "<table border=\"1\" class=\"dataframe\">\n",
              "  <thead>\n",
              "    <tr style=\"text-align: right;\">\n",
              "      <th></th>\n",
              "      <th>Accuracy</th>\n",
              "      <th>Model</th>\n",
              "      <th>Text Generator</th>\n",
              "    </tr>\n",
              "  </thead>\n",
              "  <tbody>\n",
              "    <tr>\n",
              "      <th>0</th>\n",
              "      <td>0.5135</td>\n",
              "      <td>1</td>\n",
              "      <td>GPT-2</td>\n",
              "    </tr>\n",
              "    <tr>\n",
              "      <th>1</th>\n",
              "      <td>0.7601</td>\n",
              "      <td>2</td>\n",
              "      <td>GPT-2</td>\n",
              "    </tr>\n",
              "    <tr>\n",
              "      <th>2</th>\n",
              "      <td>0.5330</td>\n",
              "      <td>3</td>\n",
              "      <td>GPT-2</td>\n",
              "    </tr>\n",
              "    <tr>\n",
              "      <th>3</th>\n",
              "      <td>0.9371</td>\n",
              "      <td>4</td>\n",
              "      <td>GPT-2</td>\n",
              "    </tr>\n",
              "    <tr>\n",
              "      <th>4</th>\n",
              "      <td>0.9371</td>\n",
              "      <td>5</td>\n",
              "      <td>GPT-2</td>\n",
              "    </tr>\n",
              "    <tr>\n",
              "      <th>5</th>\n",
              "      <td>0.7257</td>\n",
              "      <td>6</td>\n",
              "      <td>GPT-2</td>\n",
              "    </tr>\n",
              "    <tr>\n",
              "      <th>6</th>\n",
              "      <td>0.9657</td>\n",
              "      <td>7</td>\n",
              "      <td>GPT-2</td>\n",
              "    </tr>\n",
              "    <tr>\n",
              "      <th>7</th>\n",
              "      <td>0.9657</td>\n",
              "      <td>8</td>\n",
              "      <td>GPT-2</td>\n",
              "    </tr>\n",
              "    <tr>\n",
              "      <th>8</th>\n",
              "      <td>0.8571</td>\n",
              "      <td>9</td>\n",
              "      <td>GPT-2</td>\n",
              "    </tr>\n",
              "  </tbody>\n",
              "</table>\n",
              "</div>"
            ],
            "text/plain": [
              "   Accuracy  Model Text Generator\n",
              "0    0.5135      1          GPT-2\n",
              "1    0.7601      2          GPT-2\n",
              "2    0.5330      3          GPT-2\n",
              "3    0.9371      4          GPT-2\n",
              "4    0.9371      5          GPT-2\n",
              "5    0.7257      6          GPT-2\n",
              "6    0.9657      7          GPT-2\n",
              "7    0.9657      8          GPT-2\n",
              "8    0.8571      9          GPT-2"
            ]
          },
          "metadata": {
            "tags": []
          },
          "execution_count": 112
        }
      ]
    },
    {
      "cell_type": "code",
      "metadata": {
        "colab": {
          "base_uri": "https://localhost:8080/",
          "height": 607
        },
        "id": "v9o9Qe0i87ND",
        "outputId": "9bf4e015-b018-4957-be6b-bba606ffbb7c"
      },
      "source": [
        "combo = pd.concat([ngram, gpt_df])\n",
        "combo"
      ],
      "execution_count": 115,
      "outputs": [
        {
          "output_type": "execute_result",
          "data": {
            "text/html": [
              "<div>\n",
              "<style scoped>\n",
              "    .dataframe tbody tr th:only-of-type {\n",
              "        vertical-align: middle;\n",
              "    }\n",
              "\n",
              "    .dataframe tbody tr th {\n",
              "        vertical-align: top;\n",
              "    }\n",
              "\n",
              "    .dataframe thead th {\n",
              "        text-align: right;\n",
              "    }\n",
              "</style>\n",
              "<table border=\"1\" class=\"dataframe\">\n",
              "  <thead>\n",
              "    <tr style=\"text-align: right;\">\n",
              "      <th></th>\n",
              "      <th>Accuracy</th>\n",
              "      <th>Model</th>\n",
              "      <th>Text Generator</th>\n",
              "    </tr>\n",
              "  </thead>\n",
              "  <tbody>\n",
              "    <tr>\n",
              "      <th>0</th>\n",
              "      <td>0.9375</td>\n",
              "      <td>1</td>\n",
              "      <td>N-Gram</td>\n",
              "    </tr>\n",
              "    <tr>\n",
              "      <th>1</th>\n",
              "      <td>1.0000</td>\n",
              "      <td>2</td>\n",
              "      <td>N-Gram</td>\n",
              "    </tr>\n",
              "    <tr>\n",
              "      <th>2</th>\n",
              "      <td>0.9500</td>\n",
              "      <td>3</td>\n",
              "      <td>N-Gram</td>\n",
              "    </tr>\n",
              "    <tr>\n",
              "      <th>3</th>\n",
              "      <td>0.9314</td>\n",
              "      <td>4</td>\n",
              "      <td>N-Gram</td>\n",
              "    </tr>\n",
              "    <tr>\n",
              "      <th>4</th>\n",
              "      <td>0.9371</td>\n",
              "      <td>5</td>\n",
              "      <td>N-Gram</td>\n",
              "    </tr>\n",
              "    <tr>\n",
              "      <th>5</th>\n",
              "      <td>0.8800</td>\n",
              "      <td>6</td>\n",
              "      <td>N-Gram</td>\n",
              "    </tr>\n",
              "    <tr>\n",
              "      <th>6</th>\n",
              "      <td>0.9695</td>\n",
              "      <td>7</td>\n",
              "      <td>N-Gram</td>\n",
              "    </tr>\n",
              "    <tr>\n",
              "      <th>7</th>\n",
              "      <td>0.9486</td>\n",
              "      <td>8</td>\n",
              "      <td>N-Gram</td>\n",
              "    </tr>\n",
              "    <tr>\n",
              "      <th>8</th>\n",
              "      <td>0.8514</td>\n",
              "      <td>9</td>\n",
              "      <td>N-Gram</td>\n",
              "    </tr>\n",
              "    <tr>\n",
              "      <th>0</th>\n",
              "      <td>0.5135</td>\n",
              "      <td>1</td>\n",
              "      <td>GPT-2</td>\n",
              "    </tr>\n",
              "    <tr>\n",
              "      <th>1</th>\n",
              "      <td>0.7601</td>\n",
              "      <td>2</td>\n",
              "      <td>GPT-2</td>\n",
              "    </tr>\n",
              "    <tr>\n",
              "      <th>2</th>\n",
              "      <td>0.5330</td>\n",
              "      <td>3</td>\n",
              "      <td>GPT-2</td>\n",
              "    </tr>\n",
              "    <tr>\n",
              "      <th>3</th>\n",
              "      <td>0.9371</td>\n",
              "      <td>4</td>\n",
              "      <td>GPT-2</td>\n",
              "    </tr>\n",
              "    <tr>\n",
              "      <th>4</th>\n",
              "      <td>0.9371</td>\n",
              "      <td>5</td>\n",
              "      <td>GPT-2</td>\n",
              "    </tr>\n",
              "    <tr>\n",
              "      <th>5</th>\n",
              "      <td>0.7257</td>\n",
              "      <td>6</td>\n",
              "      <td>GPT-2</td>\n",
              "    </tr>\n",
              "    <tr>\n",
              "      <th>6</th>\n",
              "      <td>0.9657</td>\n",
              "      <td>7</td>\n",
              "      <td>GPT-2</td>\n",
              "    </tr>\n",
              "    <tr>\n",
              "      <th>7</th>\n",
              "      <td>0.9657</td>\n",
              "      <td>8</td>\n",
              "      <td>GPT-2</td>\n",
              "    </tr>\n",
              "    <tr>\n",
              "      <th>8</th>\n",
              "      <td>0.8571</td>\n",
              "      <td>9</td>\n",
              "      <td>GPT-2</td>\n",
              "    </tr>\n",
              "  </tbody>\n",
              "</table>\n",
              "</div>"
            ],
            "text/plain": [
              "   Accuracy  Model Text Generator\n",
              "0    0.9375      1         N-Gram\n",
              "1    1.0000      2         N-Gram\n",
              "2    0.9500      3         N-Gram\n",
              "3    0.9314      4         N-Gram\n",
              "4    0.9371      5         N-Gram\n",
              "5    0.8800      6         N-Gram\n",
              "6    0.9695      7         N-Gram\n",
              "7    0.9486      8         N-Gram\n",
              "8    0.8514      9         N-Gram\n",
              "0    0.5135      1          GPT-2\n",
              "1    0.7601      2          GPT-2\n",
              "2    0.5330      3          GPT-2\n",
              "3    0.9371      4          GPT-2\n",
              "4    0.9371      5          GPT-2\n",
              "5    0.7257      6          GPT-2\n",
              "6    0.9657      7          GPT-2\n",
              "7    0.9657      8          GPT-2\n",
              "8    0.8571      9          GPT-2"
            ]
          },
          "metadata": {
            "tags": []
          },
          "execution_count": 115
        }
      ]
    },
    {
      "cell_type": "code",
      "metadata": {
        "colab": {
          "base_uri": "https://localhost:8080/",
          "height": 385
        },
        "id": "dSz8qW5y0SJO",
        "outputId": "94b3eb71-1879-45ca-916c-c64d85ae4240"
      },
      "source": [
        "alt.Chart(sentiment).mark_bar(size = 25).encode(\n",
        "    x='Model',\n",
        "    y='Accuracy').configure_mark(\n",
        "    color='#F15C4F').properties(\n",
        "    title='Sentiment Analysis Model Accuracy Scores'\n",
        ").configure_title(\n",
        "    anchor='start'\n",
        ")"
      ],
      "execution_count": 99,
      "outputs": [
        {
          "output_type": "execute_result",
          "data": {
            "text/plain": [
              "alt.Chart(...)"
            ],
            "text/html": [
              "\n",
              "<div id=\"altair-viz-7536221a98634ed0a966093140100f7d\"></div>\n",
              "<script type=\"text/javascript\">\n",
              "  (function(spec, embedOpt){\n",
              "    let outputDiv = document.currentScript.previousElementSibling;\n",
              "    if (outputDiv.id !== \"altair-viz-7536221a98634ed0a966093140100f7d\") {\n",
              "      outputDiv = document.getElementById(\"altair-viz-7536221a98634ed0a966093140100f7d\");\n",
              "    }\n",
              "    const paths = {\n",
              "      \"vega\": \"https://cdn.jsdelivr.net/npm//vega@5?noext\",\n",
              "      \"vega-lib\": \"https://cdn.jsdelivr.net/npm//vega-lib?noext\",\n",
              "      \"vega-lite\": \"https://cdn.jsdelivr.net/npm//vega-lite@4.8.1?noext\",\n",
              "      \"vega-embed\": \"https://cdn.jsdelivr.net/npm//vega-embed@6?noext\",\n",
              "    };\n",
              "\n",
              "    function loadScript(lib) {\n",
              "      return new Promise(function(resolve, reject) {\n",
              "        var s = document.createElement('script');\n",
              "        s.src = paths[lib];\n",
              "        s.async = true;\n",
              "        s.onload = () => resolve(paths[lib]);\n",
              "        s.onerror = () => reject(`Error loading script: ${paths[lib]}`);\n",
              "        document.getElementsByTagName(\"head\")[0].appendChild(s);\n",
              "      });\n",
              "    }\n",
              "\n",
              "    function showError(err) {\n",
              "      outputDiv.innerHTML = `<div class=\"error\" style=\"color:red;\">${err}</div>`;\n",
              "      throw err;\n",
              "    }\n",
              "\n",
              "    function displayChart(vegaEmbed) {\n",
              "      vegaEmbed(outputDiv, spec, embedOpt)\n",
              "        .catch(err => showError(`Javascript Error: ${err.message}<br>This usually means there's a typo in your chart specification. See the javascript console for the full traceback.`));\n",
              "    }\n",
              "\n",
              "    if(typeof define === \"function\" && define.amd) {\n",
              "      requirejs.config({paths});\n",
              "      require([\"vega-embed\"], displayChart, err => showError(`Error loading script: ${err.message}`));\n",
              "    } else if (typeof vegaEmbed === \"function\") {\n",
              "      displayChart(vegaEmbed);\n",
              "    } else {\n",
              "      loadScript(\"vega\")\n",
              "        .then(() => loadScript(\"vega-lite\"))\n",
              "        .then(() => loadScript(\"vega-embed\"))\n",
              "        .catch(showError)\n",
              "        .then(() => displayChart(vegaEmbed));\n",
              "    }\n",
              "  })({\"config\": {\"view\": {\"continuousWidth\": 400, \"continuousHeight\": 300}, \"mark\": {\"color\": \"#F15C4F\"}, \"title\": {\"anchor\": \"start\"}}, \"data\": {\"name\": \"data-779452bdc6d316cc27b01c023c3afb12\"}, \"mark\": {\"type\": \"bar\", \"size\": 25}, \"encoding\": {\"x\": {\"type\": \"quantitative\", \"field\": \"Model\"}, \"y\": {\"type\": \"quantitative\", \"field\": \"Accuracy\"}}, \"title\": \"Sentiment Analysis Model Accuracy Scores\", \"$schema\": \"https://vega.github.io/schema/vega-lite/v4.8.1.json\", \"datasets\": {\"data-779452bdc6d316cc27b01c023c3afb12\": [{\"Accuracy\": 0.8835, \"Model\": 1}, {\"Accuracy\": 0.8835, \"Model\": 2}, {\"Accuracy\": 0.8835, \"Model\": 3}, {\"Accuracy\": 0.9086, \"Model\": 4}, {\"Accuracy\": 0.9257, \"Model\": 5}, {\"Accuracy\": 0.9257, \"Model\": 6}, {\"Accuracy\": 0.8971, \"Model\": 7}, {\"Accuracy\": 0.9029, \"Model\": 8}, {\"Accuracy\": 0.8914, \"Model\": 9}]}}, {\"mode\": \"vega-lite\"});\n",
              "</script>"
            ]
          },
          "metadata": {
            "tags": []
          },
          "execution_count": 99
        }
      ]
    },
    {
      "cell_type": "code",
      "metadata": {
        "colab": {
          "base_uri": "https://localhost:8080/",
          "height": 444
        },
        "id": "kOUZikty1GLU",
        "outputId": "ce34fedb-bbad-4ce0-eaa1-1d66c84c3267"
      },
      "source": [
        "alt.Chart(combo).mark_bar(size = 15).encode(\n",
        "    column = 'Model:N',\n",
        "    x=alt.X('Text Generator', axis=alt.Axis(title='')),\n",
        "    y='Accuracy',color=alt.Color('Text Generator:N', scale=alt.Scale(range=[\"#FEDD30\",\"#FF9242\"]))).properties(\n",
        "    title='Text Generator Model Accuracy Scores'\n",
        ").configure_title(\n",
        "    anchor='start'\n",
        ")"
      ],
      "execution_count": 133,
      "outputs": [
        {
          "output_type": "execute_result",
          "data": {
            "text/plain": [
              "alt.Chart(...)"
            ],
            "text/html": [
              "\n",
              "<div id=\"altair-viz-075af57e4dcb44cabce69938edc452a6\"></div>\n",
              "<script type=\"text/javascript\">\n",
              "  (function(spec, embedOpt){\n",
              "    let outputDiv = document.currentScript.previousElementSibling;\n",
              "    if (outputDiv.id !== \"altair-viz-075af57e4dcb44cabce69938edc452a6\") {\n",
              "      outputDiv = document.getElementById(\"altair-viz-075af57e4dcb44cabce69938edc452a6\");\n",
              "    }\n",
              "    const paths = {\n",
              "      \"vega\": \"https://cdn.jsdelivr.net/npm//vega@5?noext\",\n",
              "      \"vega-lib\": \"https://cdn.jsdelivr.net/npm//vega-lib?noext\",\n",
              "      \"vega-lite\": \"https://cdn.jsdelivr.net/npm//vega-lite@4.8.1?noext\",\n",
              "      \"vega-embed\": \"https://cdn.jsdelivr.net/npm//vega-embed@6?noext\",\n",
              "    };\n",
              "\n",
              "    function loadScript(lib) {\n",
              "      return new Promise(function(resolve, reject) {\n",
              "        var s = document.createElement('script');\n",
              "        s.src = paths[lib];\n",
              "        s.async = true;\n",
              "        s.onload = () => resolve(paths[lib]);\n",
              "        s.onerror = () => reject(`Error loading script: ${paths[lib]}`);\n",
              "        document.getElementsByTagName(\"head\")[0].appendChild(s);\n",
              "      });\n",
              "    }\n",
              "\n",
              "    function showError(err) {\n",
              "      outputDiv.innerHTML = `<div class=\"error\" style=\"color:red;\">${err}</div>`;\n",
              "      throw err;\n",
              "    }\n",
              "\n",
              "    function displayChart(vegaEmbed) {\n",
              "      vegaEmbed(outputDiv, spec, embedOpt)\n",
              "        .catch(err => showError(`Javascript Error: ${err.message}<br>This usually means there's a typo in your chart specification. See the javascript console for the full traceback.`));\n",
              "    }\n",
              "\n",
              "    if(typeof define === \"function\" && define.amd) {\n",
              "      requirejs.config({paths});\n",
              "      require([\"vega-embed\"], displayChart, err => showError(`Error loading script: ${err.message}`));\n",
              "    } else if (typeof vegaEmbed === \"function\") {\n",
              "      displayChart(vegaEmbed);\n",
              "    } else {\n",
              "      loadScript(\"vega\")\n",
              "        .then(() => loadScript(\"vega-lite\"))\n",
              "        .then(() => loadScript(\"vega-embed\"))\n",
              "        .catch(showError)\n",
              "        .then(() => displayChart(vegaEmbed));\n",
              "    }\n",
              "  })({\"config\": {\"view\": {\"continuousWidth\": 400, \"continuousHeight\": 300}, \"title\": {\"anchor\": \"start\"}}, \"data\": {\"name\": \"data-a47ed850fed5bf33a78107889bc5248a\"}, \"mark\": {\"type\": \"bar\", \"size\": 15}, \"encoding\": {\"color\": {\"type\": \"nominal\", \"field\": \"Text Generator\", \"scale\": {\"range\": [\"#FEDD30\", \"#FF9242\"]}}, \"column\": {\"type\": \"nominal\", \"field\": \"Model\"}, \"x\": {\"type\": \"nominal\", \"axis\": {\"title\": \"\"}, \"field\": \"Text Generator\"}, \"y\": {\"type\": \"quantitative\", \"field\": \"Accuracy\"}}, \"title\": \"Text Generator Model Accuracy Scores\", \"$schema\": \"https://vega.github.io/schema/vega-lite/v4.8.1.json\", \"datasets\": {\"data-a47ed850fed5bf33a78107889bc5248a\": [{\"Accuracy\": 0.9375, \"Model\": 1, \"Text Generator\": \"N-Gram\"}, {\"Accuracy\": 1.0, \"Model\": 2, \"Text Generator\": \"N-Gram\"}, {\"Accuracy\": 0.95, \"Model\": 3, \"Text Generator\": \"N-Gram\"}, {\"Accuracy\": 0.9314, \"Model\": 4, \"Text Generator\": \"N-Gram\"}, {\"Accuracy\": 0.9371, \"Model\": 5, \"Text Generator\": \"N-Gram\"}, {\"Accuracy\": 0.88, \"Model\": 6, \"Text Generator\": \"N-Gram\"}, {\"Accuracy\": 0.9695, \"Model\": 7, \"Text Generator\": \"N-Gram\"}, {\"Accuracy\": 0.9486, \"Model\": 8, \"Text Generator\": \"N-Gram\"}, {\"Accuracy\": 0.8514, \"Model\": 9, \"Text Generator\": \"N-Gram\"}, {\"Accuracy\": 0.5135, \"Model\": 1, \"Text Generator\": \"GPT-2\"}, {\"Accuracy\": 0.7601, \"Model\": 2, \"Text Generator\": \"GPT-2\"}, {\"Accuracy\": 0.533, \"Model\": 3, \"Text Generator\": \"GPT-2\"}, {\"Accuracy\": 0.9371, \"Model\": 4, \"Text Generator\": \"GPT-2\"}, {\"Accuracy\": 0.9371, \"Model\": 5, \"Text Generator\": \"GPT-2\"}, {\"Accuracy\": 0.7257, \"Model\": 6, \"Text Generator\": \"GPT-2\"}, {\"Accuracy\": 0.9657, \"Model\": 7, \"Text Generator\": \"GPT-2\"}, {\"Accuracy\": 0.9657, \"Model\": 8, \"Text Generator\": \"GPT-2\"}, {\"Accuracy\": 0.8571, \"Model\": 9, \"Text Generator\": \"GPT-2\"}]}}, {\"mode\": \"vega-lite\"});\n",
              "</script>"
            ]
          },
          "metadata": {
            "tags": []
          },
          "execution_count": 133
        }
      ]
    },
    {
      "cell_type": "code",
      "metadata": {
        "id": "T8YbTs6D3qHS"
      },
      "source": [
        ""
      ],
      "execution_count": null,
      "outputs": []
    }
  ]
}