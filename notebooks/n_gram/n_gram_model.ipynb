{
  "nbformat": 4,
  "nbformat_minor": 0,
  "metadata": {
    "colab": {
      "name": "n-gram_model.ipynb",
      "provenance": [],
      "include_colab_link": true
    },
    "kernelspec": {
      "name": "python3",
      "display_name": "Python 3"
    },
    "language_info": {
      "name": "python"
    }
  },
  "cells": [
    {
      "cell_type": "markdown",
      "metadata": {
        "id": "view-in-github",
        "colab_type": "text"
      },
      "source": [
        "<a href=\"https://colab.research.google.com/github/myconsonance/266_final_project/blob/main/notebooks/n_gram/n_gram_model.ipynb\" target=\"_parent\"><img src=\"https://colab.research.google.com/assets/colab-badge.svg\" alt=\"Open In Colab\"/></a>"
      ]
    },
    {
      "cell_type": "code",
      "metadata": {
        "id": "iUji5sLKyOIz"
      },
      "source": [
        ""
      ],
      "execution_count": null,
      "outputs": []
    },
    {
      "cell_type": "code",
      "metadata": {
        "id": "PYyB6f9qyFsG"
      },
      "source": [
        "deep_model = keras.Sequential([\n",
        "    #Hidden Layers\n",
        "    keras.layers.LSTM(15, input_shape=(200,1)),\n",
        "    keras.layers.Dense(100, activation=\"swish\"),\n",
        "    keras.layers.Dropout(rate= 0.7),\n",
        "    #keras.layers.Dense(50, activation=\"swish\"),\n",
        "    #keras.layers.Dropout(rate= 0.7),\n",
        "    keras.layers.Dense(25, activation=\"swish\"),\n",
        "    keras.layers.Dropout(rate= 0.7),\n",
        "    \n",
        "    #Final Layer\n",
        "    keras.layers.Dense(1, activation='softmax')\n",
        "])\n",
        "\n",
        "deep_model.compile(optimizer='adam',\n",
        "              loss='hinge',\n",
        "              metrics=['accuracy'])"
      ],
      "execution_count": null,
      "outputs": []
    }
  ]
}